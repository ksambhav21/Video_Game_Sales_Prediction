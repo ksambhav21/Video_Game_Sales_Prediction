{
  "nbformat": 4,
  "nbformat_minor": 0,
  "metadata": {
    "colab": {
      "name": "Video Game Sales Prediction.ipynb",
      "provenance": []
    },
    "kernelspec": {
      "name": "python3",
      "display_name": "Python 3"
    },
    "language_info": {
      "name": "python"
    }
  },
  "cells": [
    {
      "cell_type": "code",
      "execution_count": 1,
      "metadata": {
        "id": "mdxtpNBQXi9w"
      },
      "outputs": [],
      "source": [
        "import pandas as pd\n",
        "import numpy as np\n",
        "import matplotlib.pyplot as plt\n",
        "import seaborn as sns\n",
        "import plotly.express as px"
      ]
    },
    {
      "cell_type": "code",
      "source": [
        "df=pd.read_csv(\"vgsales.csv\")"
      ],
      "metadata": {
        "id": "nerysq31XluM"
      },
      "execution_count": 2,
      "outputs": []
    },
    {
      "cell_type": "code",
      "source": [
        "df.info()"
      ],
      "metadata": {
        "colab": {
          "base_uri": "https://localhost:8080/"
        },
        "id": "EKTOFZKUXxO2",
        "outputId": "c4207e62-f6cb-47e8-a25c-8231710d0afc"
      },
      "execution_count": 3,
      "outputs": [
        {
          "output_type": "stream",
          "name": "stdout",
          "text": [
            "<class 'pandas.core.frame.DataFrame'>\n",
            "RangeIndex: 16598 entries, 0 to 16597\n",
            "Data columns (total 11 columns):\n",
            " #   Column        Non-Null Count  Dtype  \n",
            "---  ------        --------------  -----  \n",
            " 0   Rank          16598 non-null  int64  \n",
            " 1   Name          16598 non-null  object \n",
            " 2   Platform      16598 non-null  object \n",
            " 3   Year          16327 non-null  float64\n",
            " 4   Genre         16598 non-null  object \n",
            " 5   Publisher     16540 non-null  object \n",
            " 6   NA_Sales      16598 non-null  float64\n",
            " 7   EU_Sales      16598 non-null  float64\n",
            " 8   JP_Sales      16598 non-null  float64\n",
            " 9   Other_Sales   16598 non-null  float64\n",
            " 10  Global_Sales  16598 non-null  float64\n",
            "dtypes: float64(6), int64(1), object(4)\n",
            "memory usage: 1.4+ MB\n"
          ]
        }
      ]
    },
    {
      "cell_type": "code",
      "source": [
        "df.head()"
      ],
      "metadata": {
        "colab": {
          "base_uri": "https://localhost:8080/",
          "height": 206
        },
        "id": "e0FoQvwWXrUQ",
        "outputId": "c7a5df68-c57c-4a5b-931e-e822d898f02d"
      },
      "execution_count": 4,
      "outputs": [
        {
          "output_type": "execute_result",
          "data": {
            "text/plain": [
              "   Rank                      Name Platform    Year         Genre Publisher  \\\n",
              "0     1                Wii Sports      Wii  2006.0        Sports  Nintendo   \n",
              "1     2         Super Mario Bros.      NES  1985.0      Platform  Nintendo   \n",
              "2     3            Mario Kart Wii      Wii  2008.0        Racing  Nintendo   \n",
              "3     4         Wii Sports Resort      Wii  2009.0        Sports  Nintendo   \n",
              "4     5  Pokemon Red/Pokemon Blue       GB  1996.0  Role-Playing  Nintendo   \n",
              "\n",
              "   NA_Sales  EU_Sales  JP_Sales  Other_Sales  Global_Sales  \n",
              "0     41.49     29.02      3.77         8.46         82.74  \n",
              "1     29.08      3.58      6.81         0.77         40.24  \n",
              "2     15.85     12.88      3.79         3.31         35.82  \n",
              "3     15.75     11.01      3.28         2.96         33.00  \n",
              "4     11.27      8.89     10.22         1.00         31.37  "
            ],
            "text/html": [
              "\n",
              "  <div id=\"df-dd038a36-d7e5-446e-acf7-26ee5f849536\">\n",
              "    <div class=\"colab-df-container\">\n",
              "      <div>\n",
              "<style scoped>\n",
              "    .dataframe tbody tr th:only-of-type {\n",
              "        vertical-align: middle;\n",
              "    }\n",
              "\n",
              "    .dataframe tbody tr th {\n",
              "        vertical-align: top;\n",
              "    }\n",
              "\n",
              "    .dataframe thead th {\n",
              "        text-align: right;\n",
              "    }\n",
              "</style>\n",
              "<table border=\"1\" class=\"dataframe\">\n",
              "  <thead>\n",
              "    <tr style=\"text-align: right;\">\n",
              "      <th></th>\n",
              "      <th>Rank</th>\n",
              "      <th>Name</th>\n",
              "      <th>Platform</th>\n",
              "      <th>Year</th>\n",
              "      <th>Genre</th>\n",
              "      <th>Publisher</th>\n",
              "      <th>NA_Sales</th>\n",
              "      <th>EU_Sales</th>\n",
              "      <th>JP_Sales</th>\n",
              "      <th>Other_Sales</th>\n",
              "      <th>Global_Sales</th>\n",
              "    </tr>\n",
              "  </thead>\n",
              "  <tbody>\n",
              "    <tr>\n",
              "      <th>0</th>\n",
              "      <td>1</td>\n",
              "      <td>Wii Sports</td>\n",
              "      <td>Wii</td>\n",
              "      <td>2006.0</td>\n",
              "      <td>Sports</td>\n",
              "      <td>Nintendo</td>\n",
              "      <td>41.49</td>\n",
              "      <td>29.02</td>\n",
              "      <td>3.77</td>\n",
              "      <td>8.46</td>\n",
              "      <td>82.74</td>\n",
              "    </tr>\n",
              "    <tr>\n",
              "      <th>1</th>\n",
              "      <td>2</td>\n",
              "      <td>Super Mario Bros.</td>\n",
              "      <td>NES</td>\n",
              "      <td>1985.0</td>\n",
              "      <td>Platform</td>\n",
              "      <td>Nintendo</td>\n",
              "      <td>29.08</td>\n",
              "      <td>3.58</td>\n",
              "      <td>6.81</td>\n",
              "      <td>0.77</td>\n",
              "      <td>40.24</td>\n",
              "    </tr>\n",
              "    <tr>\n",
              "      <th>2</th>\n",
              "      <td>3</td>\n",
              "      <td>Mario Kart Wii</td>\n",
              "      <td>Wii</td>\n",
              "      <td>2008.0</td>\n",
              "      <td>Racing</td>\n",
              "      <td>Nintendo</td>\n",
              "      <td>15.85</td>\n",
              "      <td>12.88</td>\n",
              "      <td>3.79</td>\n",
              "      <td>3.31</td>\n",
              "      <td>35.82</td>\n",
              "    </tr>\n",
              "    <tr>\n",
              "      <th>3</th>\n",
              "      <td>4</td>\n",
              "      <td>Wii Sports Resort</td>\n",
              "      <td>Wii</td>\n",
              "      <td>2009.0</td>\n",
              "      <td>Sports</td>\n",
              "      <td>Nintendo</td>\n",
              "      <td>15.75</td>\n",
              "      <td>11.01</td>\n",
              "      <td>3.28</td>\n",
              "      <td>2.96</td>\n",
              "      <td>33.00</td>\n",
              "    </tr>\n",
              "    <tr>\n",
              "      <th>4</th>\n",
              "      <td>5</td>\n",
              "      <td>Pokemon Red/Pokemon Blue</td>\n",
              "      <td>GB</td>\n",
              "      <td>1996.0</td>\n",
              "      <td>Role-Playing</td>\n",
              "      <td>Nintendo</td>\n",
              "      <td>11.27</td>\n",
              "      <td>8.89</td>\n",
              "      <td>10.22</td>\n",
              "      <td>1.00</td>\n",
              "      <td>31.37</td>\n",
              "    </tr>\n",
              "  </tbody>\n",
              "</table>\n",
              "</div>\n",
              "      <button class=\"colab-df-convert\" onclick=\"convertToInteractive('df-dd038a36-d7e5-446e-acf7-26ee5f849536')\"\n",
              "              title=\"Convert this dataframe to an interactive table.\"\n",
              "              style=\"display:none;\">\n",
              "        \n",
              "  <svg xmlns=\"http://www.w3.org/2000/svg\" height=\"24px\"viewBox=\"0 0 24 24\"\n",
              "       width=\"24px\">\n",
              "    <path d=\"M0 0h24v24H0V0z\" fill=\"none\"/>\n",
              "    <path d=\"M18.56 5.44l.94 2.06.94-2.06 2.06-.94-2.06-.94-.94-2.06-.94 2.06-2.06.94zm-11 1L8.5 8.5l.94-2.06 2.06-.94-2.06-.94L8.5 2.5l-.94 2.06-2.06.94zm10 10l.94 2.06.94-2.06 2.06-.94-2.06-.94-.94-2.06-.94 2.06-2.06.94z\"/><path d=\"M17.41 7.96l-1.37-1.37c-.4-.4-.92-.59-1.43-.59-.52 0-1.04.2-1.43.59L10.3 9.45l-7.72 7.72c-.78.78-.78 2.05 0 2.83L4 21.41c.39.39.9.59 1.41.59.51 0 1.02-.2 1.41-.59l7.78-7.78 2.81-2.81c.8-.78.8-2.07 0-2.86zM5.41 20L4 18.59l7.72-7.72 1.47 1.35L5.41 20z\"/>\n",
              "  </svg>\n",
              "      </button>\n",
              "      \n",
              "  <style>\n",
              "    .colab-df-container {\n",
              "      display:flex;\n",
              "      flex-wrap:wrap;\n",
              "      gap: 12px;\n",
              "    }\n",
              "\n",
              "    .colab-df-convert {\n",
              "      background-color: #E8F0FE;\n",
              "      border: none;\n",
              "      border-radius: 50%;\n",
              "      cursor: pointer;\n",
              "      display: none;\n",
              "      fill: #1967D2;\n",
              "      height: 32px;\n",
              "      padding: 0 0 0 0;\n",
              "      width: 32px;\n",
              "    }\n",
              "\n",
              "    .colab-df-convert:hover {\n",
              "      background-color: #E2EBFA;\n",
              "      box-shadow: 0px 1px 2px rgba(60, 64, 67, 0.3), 0px 1px 3px 1px rgba(60, 64, 67, 0.15);\n",
              "      fill: #174EA6;\n",
              "    }\n",
              "\n",
              "    [theme=dark] .colab-df-convert {\n",
              "      background-color: #3B4455;\n",
              "      fill: #D2E3FC;\n",
              "    }\n",
              "\n",
              "    [theme=dark] .colab-df-convert:hover {\n",
              "      background-color: #434B5C;\n",
              "      box-shadow: 0px 1px 3px 1px rgba(0, 0, 0, 0.15);\n",
              "      filter: drop-shadow(0px 1px 2px rgba(0, 0, 0, 0.3));\n",
              "      fill: #FFFFFF;\n",
              "    }\n",
              "  </style>\n",
              "\n",
              "      <script>\n",
              "        const buttonEl =\n",
              "          document.querySelector('#df-dd038a36-d7e5-446e-acf7-26ee5f849536 button.colab-df-convert');\n",
              "        buttonEl.style.display =\n",
              "          google.colab.kernel.accessAllowed ? 'block' : 'none';\n",
              "\n",
              "        async function convertToInteractive(key) {\n",
              "          const element = document.querySelector('#df-dd038a36-d7e5-446e-acf7-26ee5f849536');\n",
              "          const dataTable =\n",
              "            await google.colab.kernel.invokeFunction('convertToInteractive',\n",
              "                                                     [key], {});\n",
              "          if (!dataTable) return;\n",
              "\n",
              "          const docLinkHtml = 'Like what you see? Visit the ' +\n",
              "            '<a target=\"_blank\" href=https://colab.research.google.com/notebooks/data_table.ipynb>data table notebook</a>'\n",
              "            + ' to learn more about interactive tables.';\n",
              "          element.innerHTML = '';\n",
              "          dataTable['output_type'] = 'display_data';\n",
              "          await google.colab.output.renderOutput(dataTable, element);\n",
              "          const docLink = document.createElement('div');\n",
              "          docLink.innerHTML = docLinkHtml;\n",
              "          element.appendChild(docLink);\n",
              "        }\n",
              "      </script>\n",
              "    </div>\n",
              "  </div>\n",
              "  "
            ]
          },
          "metadata": {},
          "execution_count": 4
        }
      ]
    },
    {
      "cell_type": "markdown",
      "source": [
        "Analysing the Global Sales with respect to Time"
      ],
      "metadata": {
        "id": "oTXKBOC1nlHe"
      }
    },
    {
      "cell_type": "code",
      "source": [
        "df1 = df.groupby(['Year']).sum()['Global_Sales'].reset_index(name='Global Sales')\n",
        "df1=df1[df1['Year']>=2000]"
      ],
      "metadata": {
        "id": "uRUgwBbGnIaq"
      },
      "execution_count": 7,
      "outputs": []
    },
    {
      "cell_type": "code",
      "source": [
        "df1"
      ],
      "metadata": {
        "colab": {
          "base_uri": "https://localhost:8080/",
          "height": 645
        },
        "id": "z48Osw117iYJ",
        "outputId": "7de6b4f4-ab75-4403-8c90-4cd88ea95687"
      },
      "execution_count": 9,
      "outputs": [
        {
          "output_type": "execute_result",
          "data": {
            "text/plain": [
              "      Year  Global Sales\n",
              "20  2000.0        201.56\n",
              "21  2001.0        331.47\n",
              "22  2002.0        395.52\n",
              "23  2003.0        357.85\n",
              "24  2004.0        419.31\n",
              "25  2005.0        459.94\n",
              "26  2006.0        521.04\n",
              "27  2007.0        611.13\n",
              "28  2008.0        678.90\n",
              "29  2009.0        667.30\n",
              "30  2010.0        600.45\n",
              "31  2011.0        515.99\n",
              "32  2012.0        363.54\n",
              "33  2013.0        368.11\n",
              "34  2014.0        337.05\n",
              "35  2015.0        264.44\n",
              "36  2016.0         70.93\n",
              "37  2017.0          0.05\n",
              "38  2020.0          0.29"
            ],
            "text/html": [
              "\n",
              "  <div id=\"df-76fc2dc0-b1fa-40d4-99f4-9b6b87cc0f1d\">\n",
              "    <div class=\"colab-df-container\">\n",
              "      <div>\n",
              "<style scoped>\n",
              "    .dataframe tbody tr th:only-of-type {\n",
              "        vertical-align: middle;\n",
              "    }\n",
              "\n",
              "    .dataframe tbody tr th {\n",
              "        vertical-align: top;\n",
              "    }\n",
              "\n",
              "    .dataframe thead th {\n",
              "        text-align: right;\n",
              "    }\n",
              "</style>\n",
              "<table border=\"1\" class=\"dataframe\">\n",
              "  <thead>\n",
              "    <tr style=\"text-align: right;\">\n",
              "      <th></th>\n",
              "      <th>Year</th>\n",
              "      <th>Global Sales</th>\n",
              "    </tr>\n",
              "  </thead>\n",
              "  <tbody>\n",
              "    <tr>\n",
              "      <th>20</th>\n",
              "      <td>2000.0</td>\n",
              "      <td>201.56</td>\n",
              "    </tr>\n",
              "    <tr>\n",
              "      <th>21</th>\n",
              "      <td>2001.0</td>\n",
              "      <td>331.47</td>\n",
              "    </tr>\n",
              "    <tr>\n",
              "      <th>22</th>\n",
              "      <td>2002.0</td>\n",
              "      <td>395.52</td>\n",
              "    </tr>\n",
              "    <tr>\n",
              "      <th>23</th>\n",
              "      <td>2003.0</td>\n",
              "      <td>357.85</td>\n",
              "    </tr>\n",
              "    <tr>\n",
              "      <th>24</th>\n",
              "      <td>2004.0</td>\n",
              "      <td>419.31</td>\n",
              "    </tr>\n",
              "    <tr>\n",
              "      <th>25</th>\n",
              "      <td>2005.0</td>\n",
              "      <td>459.94</td>\n",
              "    </tr>\n",
              "    <tr>\n",
              "      <th>26</th>\n",
              "      <td>2006.0</td>\n",
              "      <td>521.04</td>\n",
              "    </tr>\n",
              "    <tr>\n",
              "      <th>27</th>\n",
              "      <td>2007.0</td>\n",
              "      <td>611.13</td>\n",
              "    </tr>\n",
              "    <tr>\n",
              "      <th>28</th>\n",
              "      <td>2008.0</td>\n",
              "      <td>678.90</td>\n",
              "    </tr>\n",
              "    <tr>\n",
              "      <th>29</th>\n",
              "      <td>2009.0</td>\n",
              "      <td>667.30</td>\n",
              "    </tr>\n",
              "    <tr>\n",
              "      <th>30</th>\n",
              "      <td>2010.0</td>\n",
              "      <td>600.45</td>\n",
              "    </tr>\n",
              "    <tr>\n",
              "      <th>31</th>\n",
              "      <td>2011.0</td>\n",
              "      <td>515.99</td>\n",
              "    </tr>\n",
              "    <tr>\n",
              "      <th>32</th>\n",
              "      <td>2012.0</td>\n",
              "      <td>363.54</td>\n",
              "    </tr>\n",
              "    <tr>\n",
              "      <th>33</th>\n",
              "      <td>2013.0</td>\n",
              "      <td>368.11</td>\n",
              "    </tr>\n",
              "    <tr>\n",
              "      <th>34</th>\n",
              "      <td>2014.0</td>\n",
              "      <td>337.05</td>\n",
              "    </tr>\n",
              "    <tr>\n",
              "      <th>35</th>\n",
              "      <td>2015.0</td>\n",
              "      <td>264.44</td>\n",
              "    </tr>\n",
              "    <tr>\n",
              "      <th>36</th>\n",
              "      <td>2016.0</td>\n",
              "      <td>70.93</td>\n",
              "    </tr>\n",
              "    <tr>\n",
              "      <th>37</th>\n",
              "      <td>2017.0</td>\n",
              "      <td>0.05</td>\n",
              "    </tr>\n",
              "    <tr>\n",
              "      <th>38</th>\n",
              "      <td>2020.0</td>\n",
              "      <td>0.29</td>\n",
              "    </tr>\n",
              "  </tbody>\n",
              "</table>\n",
              "</div>\n",
              "      <button class=\"colab-df-convert\" onclick=\"convertToInteractive('df-76fc2dc0-b1fa-40d4-99f4-9b6b87cc0f1d')\"\n",
              "              title=\"Convert this dataframe to an interactive table.\"\n",
              "              style=\"display:none;\">\n",
              "        \n",
              "  <svg xmlns=\"http://www.w3.org/2000/svg\" height=\"24px\"viewBox=\"0 0 24 24\"\n",
              "       width=\"24px\">\n",
              "    <path d=\"M0 0h24v24H0V0z\" fill=\"none\"/>\n",
              "    <path d=\"M18.56 5.44l.94 2.06.94-2.06 2.06-.94-2.06-.94-.94-2.06-.94 2.06-2.06.94zm-11 1L8.5 8.5l.94-2.06 2.06-.94-2.06-.94L8.5 2.5l-.94 2.06-2.06.94zm10 10l.94 2.06.94-2.06 2.06-.94-2.06-.94-.94-2.06-.94 2.06-2.06.94z\"/><path d=\"M17.41 7.96l-1.37-1.37c-.4-.4-.92-.59-1.43-.59-.52 0-1.04.2-1.43.59L10.3 9.45l-7.72 7.72c-.78.78-.78 2.05 0 2.83L4 21.41c.39.39.9.59 1.41.59.51 0 1.02-.2 1.41-.59l7.78-7.78 2.81-2.81c.8-.78.8-2.07 0-2.86zM5.41 20L4 18.59l7.72-7.72 1.47 1.35L5.41 20z\"/>\n",
              "  </svg>\n",
              "      </button>\n",
              "      \n",
              "  <style>\n",
              "    .colab-df-container {\n",
              "      display:flex;\n",
              "      flex-wrap:wrap;\n",
              "      gap: 12px;\n",
              "    }\n",
              "\n",
              "    .colab-df-convert {\n",
              "      background-color: #E8F0FE;\n",
              "      border: none;\n",
              "      border-radius: 50%;\n",
              "      cursor: pointer;\n",
              "      display: none;\n",
              "      fill: #1967D2;\n",
              "      height: 32px;\n",
              "      padding: 0 0 0 0;\n",
              "      width: 32px;\n",
              "    }\n",
              "\n",
              "    .colab-df-convert:hover {\n",
              "      background-color: #E2EBFA;\n",
              "      box-shadow: 0px 1px 2px rgba(60, 64, 67, 0.3), 0px 1px 3px 1px rgba(60, 64, 67, 0.15);\n",
              "      fill: #174EA6;\n",
              "    }\n",
              "\n",
              "    [theme=dark] .colab-df-convert {\n",
              "      background-color: #3B4455;\n",
              "      fill: #D2E3FC;\n",
              "    }\n",
              "\n",
              "    [theme=dark] .colab-df-convert:hover {\n",
              "      background-color: #434B5C;\n",
              "      box-shadow: 0px 1px 3px 1px rgba(0, 0, 0, 0.15);\n",
              "      filter: drop-shadow(0px 1px 2px rgba(0, 0, 0, 0.3));\n",
              "      fill: #FFFFFF;\n",
              "    }\n",
              "  </style>\n",
              "\n",
              "      <script>\n",
              "        const buttonEl =\n",
              "          document.querySelector('#df-76fc2dc0-b1fa-40d4-99f4-9b6b87cc0f1d button.colab-df-convert');\n",
              "        buttonEl.style.display =\n",
              "          google.colab.kernel.accessAllowed ? 'block' : 'none';\n",
              "\n",
              "        async function convertToInteractive(key) {\n",
              "          const element = document.querySelector('#df-76fc2dc0-b1fa-40d4-99f4-9b6b87cc0f1d');\n",
              "          const dataTable =\n",
              "            await google.colab.kernel.invokeFunction('convertToInteractive',\n",
              "                                                     [key], {});\n",
              "          if (!dataTable) return;\n",
              "\n",
              "          const docLinkHtml = 'Like what you see? Visit the ' +\n",
              "            '<a target=\"_blank\" href=https://colab.research.google.com/notebooks/data_table.ipynb>data table notebook</a>'\n",
              "            + ' to learn more about interactive tables.';\n",
              "          element.innerHTML = '';\n",
              "          dataTable['output_type'] = 'display_data';\n",
              "          await google.colab.output.renderOutput(dataTable, element);\n",
              "          const docLink = document.createElement('div');\n",
              "          docLink.innerHTML = docLinkHtml;\n",
              "          element.appendChild(docLink);\n",
              "        }\n",
              "      </script>\n",
              "    </div>\n",
              "  </div>\n",
              "  "
            ]
          },
          "metadata": {},
          "execution_count": 9
        }
      ]
    },
    {
      "cell_type": "code",
      "source": [
        "plt.figure(figsize=(10,6))\n",
        "sns.lineplot(x='Year',y='Global Sales',data=df1)\n",
        "plt.show()"
      ],
      "metadata": {
        "colab": {
          "base_uri": "https://localhost:8080/",
          "height": 388
        },
        "id": "V-i9kv2QnJKe",
        "outputId": "68756937-246e-4552-f1a8-794f431785a9"
      },
      "execution_count": 10,
      "outputs": [
        {
          "output_type": "display_data",
          "data": {
            "text/plain": [
              "<Figure size 720x432 with 1 Axes>"
            ],
            "image/png": "[encoded data removed]"
          },
          "metadata": {
            "needs_background": "light"
          }
        }
      ]
    },
    {
      "cell_type": "markdown",
      "source": [
        "Finding Top 10 Publishers of Video Games"
      ],
      "metadata": {
        "id": "_w8HoqwToyhB"
      }
    },
    {
      "cell_type": "code",
      "source": [
        "df2 = df.groupby(['Publisher']).sum()['Global_Sales'].reset_index(name='Global Sales')"
      ],
      "metadata": {
        "id": "kq91KSJunJlI"
      },
      "execution_count": 11,
      "outputs": []
    },
    {
      "cell_type": "code",
      "source": [
        "df2=df2.sort_values(by='Global Sales',ascending=False).head(10)\n",
        "print(\"Top 10 Publishers \\n\",df2,'\\n')"
      ],
      "metadata": {
        "colab": {
          "base_uri": "https://localhost:8080/"
        },
        "id": "S4rZu4uln85z",
        "outputId": "63760deb-e9f4-499f-a164-cac2f228cd00"
      },
      "execution_count": 12,
      "outputs": [
        {
          "output_type": "stream",
          "name": "stdout",
          "text": [
            "Top 10 Publishers \n",
            "                         Publisher  Global Sales\n",
            "359                      Nintendo       1786.56\n",
            "138               Electronic Arts       1110.32\n",
            "21                     Activision        727.46\n",
            "456   Sony Computer Entertainment        607.50\n",
            "525                       Ubisoft        474.72\n",
            "494          Take-Two Interactive        399.54\n",
            "488                           THQ        340.77\n",
            "275  Konami Digital Entertainment        283.64\n",
            "446                          Sega        272.99\n",
            "347            Namco Bandai Games        254.09 \n",
            "\n"
          ]
        }
      ]
    },
    {
      "cell_type": "code",
      "source": [
        "\n",
        "pieChart1 = px.pie(df2, values='Global Sales', names='Publisher', \n",
        "                  title='Top 10 Publishers of Video Games',\n",
        "                  color_discrete_sequence=px.colors.qualitative.Set3)\n",
        "pieChart1.show()"
      ],
      "metadata": {
        "colab": {
          "base_uri": "https://localhost:8080/",
          "height": 542
        },
        "id": "krZacKDXn89I",
        "outputId": "8063600d-ecf2-479d-dd06-9e24b1cc83d8"
      },
      "execution_count": 13,
      "outputs": [
        {
          "output_type": "display_data",
          "data": {
            "text/html": [
              "<html>\n",
              "<head><meta charset=\"utf-8\" /></head>\n",
              "<body>\n",
              "    <div>            <script src=\"https://cdnjs.cloudflare.com/ajax/libs/mathjax/2.7.5/MathJax.js?config=TeX-AMS-MML_SVG\"></script><script type=\"text/javascript\">if (window.MathJax) {MathJax.Hub.Config({SVG: {font: \"STIX-Web\"}});}</script>                <script type=\"text/javascript\">window.PlotlyConfig = {MathJaxConfig: 'local'};</script>\n",
              "        <script src=\"https://cdn.plot.ly/plotly-2.8.3.min.js\"></script>                <div id=\"f9605e02-9d06-4bc9-8ad1-1133511e88e2\" class=\"plotly-graph-div\" style=\"height:525px; width:100%;\"></div>            <script type=\"text/javascript\">                                    window.PLOTLYENV=window.PLOTLYENV || {};                                    if (document.getElementById(\"f9605e02-9d06-4bc9-8ad1-1133511e88e2\")) {                    Plotly.newPlot(                        \"f9605e02-9d06-4bc9-8ad1-1133511e88e2\",                        [{\"domain\":{\"x\":[0.0,1.0],\"y\":[0.0,1.0]},\"hovertemplate\":\"Publisher=%{label}<br>Global Sales=%{value}<extra></extra>\",\"labels\":[\"Nintendo\",\"Electronic Arts\",\"Activision\",\"Sony Computer Entertainment\",\"Ubisoft\",\"Take-Two Interactive\",\"THQ\",\"Konami Digital Entertainment\",\"Sega\",\"Namco Bandai Games\"],\"legendgroup\":\"\",\"name\":\"\",\"showlegend\":true,\"values\":[1786.56,1110.32,727.46,607.5,474.72,399.54,340.77,283.64,272.99,254.09],\"type\":\"pie\"}],                        {\"template\":{\"data\":{\"bar\":[{\"error_x\":{\"color\":\"#2a3f5f\"},\"error_y\":{\"color\":\"#2a3f5f\"},\"marker\":{\"line\":{\"color\":\"#E5ECF6\",\"width\":0.5},\"pattern\":{\"fillmode\":\"overlay\",\"size\":10,\"solidity\":0.2}},\"type\":\"bar\"}],\"barpolar\":[{\"marker\":{\"line\":{\"color\":\"#E5ECF6\",\"width\":0.5},\"pattern\":{\"fillmode\":\"overlay\",\"size\":10,\"solidity\":0.2}},\"type\":\"barpolar\"}],\"carpet\":[{\"aaxis\":{\"endlinecolor\":\"#2a3f5f\",\"gridcolor\":\"white\",\"linecolor\":\"white\",\"minorgridcolor\":\"white\",\"startlinecolor\":\"#2a3f5f\"},\"baxis\":{\"endlinecolor\":\"#2a3f5f\",\"gridcolor\":\"white\",\"linecolor\":\"white\",\"minorgridcolor\":\"white\",\"startlinecolor\":\"#2a3f5f\"},\"type\":\"carpet\"}],\"choropleth\":[{\"colorbar\":{\"outlinewidth\":0,\"ticks\":\"\"},\"type\":\"choropleth\"}],\"contour\":[{\"colorbar\":{\"outlinewidth\":0,\"ticks\":\"\"},\"colorscale\":[[0.0,\"#0d0887\"],[0.1111111111111111,\"#46039f\"],[0.2222222222222222,\"#7201a8\"],[0.3333333333333333,\"#9c179e\"],[0.4444444444444444,\"#bd3786\"],[0.5555555555555556,\"#d8576b\"],[0.6666666666666666,\"#ed7953\"],[0.7777777777777778,\"#fb9f3a\"],[0.8888888888888888,\"#fdca26\"],[1.0,\"#f0f921\"]],\"type\":\"contour\"}],\"contourcarpet\":[{\"colorbar\":{\"outlinewidth\":0,\"ticks\":\"\"},\"type\":\"contourcarpet\"}],\"heatmap\":[{\"colorbar\":{\"outlinewidth\":0,\"ticks\":\"\"},\"colorscale\":[[0.0,\"#0d0887\"],[0.1111111111111111,\"#46039f\"],[0.2222222222222222,\"#7201a8\"],[0.3333333333333333,\"#9c179e\"],[0.4444444444444444,\"#bd3786\"],[0.5555555555555556,\"#d8576b\"],[0.6666666666666666,\"#ed7953\"],[0.7777777777777778,\"#fb9f3a\"],[0.8888888888888888,\"#fdca26\"],[1.0,\"#f0f921\"]],\"type\":\"heatmap\"}],\"heatmapgl\":[{\"colorbar\":{\"outlinewidth\":0,\"ticks\":\"\"},\"colorscale\":[[0.0,\"#0d0887\"],[0.1111111111111111,\"#46039f\"],[0.2222222222222222,\"#7201a8\"],[0.3333333333333333,\"#9c179e\"],[0.4444444444444444,\"#bd3786\"],[0.5555555555555556,\"#d8576b\"],[0.6666666666666666,\"#ed7953\"],[0.7777777777777778,\"#fb9f3a\"],[0.8888888888888888,\"#fdca26\"],[1.0,\"#f0f921\"]],\"type\":\"heatmapgl\"}],\"histogram\":[{\"marker\":{\"pattern\":{\"fillmode\":\"overlay\",\"size\":10,\"solidity\":0.2}},\"type\":\"histogram\"}],\"histogram2d\":[{\"colorbar\":{\"outlinewidth\":0,\"ticks\":\"\"},\"colorscale\":[[0.0,\"#0d0887\"],[0.1111111111111111,\"#46039f\"],[0.2222222222222222,\"#7201a8\"],[0.3333333333333333,\"#9c179e\"],[0.4444444444444444,\"#bd3786\"],[0.5555555555555556,\"#d8576b\"],[0.6666666666666666,\"#ed7953\"],[0.7777777777777778,\"#fb9f3a\"],[0.8888888888888888,\"#fdca26\"],[1.0,\"#f0f921\"]],\"type\":\"histogram2d\"}],\"histogram2dcontour\":[{\"colorbar\":{\"outlinewidth\":0,\"ticks\":\"\"},\"colorscale\":[[0.0,\"#0d0887\"],[0.1111111111111111,\"#46039f\"],[0.2222222222222222,\"#7201a8\"],[0.3333333333333333,\"#9c179e\"],[0.4444444444444444,\"#bd3786\"],[0.5555555555555556,\"#d8576b\"],[0.6666666666666666,\"#ed7953\"],[0.7777777777777778,\"#fb9f3a\"],[0.8888888888888888,\"#fdca26\"],[1.0,\"#f0f921\"]],\"type\":\"histogram2dcontour\"}],\"mesh3d\":[{\"colorbar\":{\"outlinewidth\":0,\"ticks\":\"\"},\"type\":\"mesh3d\"}],\"parcoords\":[{\"line\":{\"colorbar\":{\"outlinewidth\":0,\"ticks\":\"\"}},\"type\":\"parcoords\"}],\"pie\":[{\"automargin\":true,\"type\":\"pie\"}],\"scatter\":[{\"marker\":{\"colorbar\":{\"outlinewidth\":0,\"ticks\":\"\"}},\"type\":\"scatter\"}],\"scatter3d\":[{\"line\":{\"colorbar\":{\"outlinewidth\":0,\"ticks\":\"\"}},\"marker\":{\"colorbar\":{\"outlinewidth\":0,\"ticks\":\"\"}},\"type\":\"scatter3d\"}],\"scattercarpet\":[{\"marker\":{\"colorbar\":{\"outlinewidth\":0,\"ticks\":\"\"}},\"type\":\"scattercarpet\"}],\"scattergeo\":[{\"marker\":{\"colorbar\":{\"outlinewidth\":0,\"ticks\":\"\"}},\"type\":\"scattergeo\"}],\"scattergl\":[{\"marker\":{\"colorbar\":{\"outlinewidth\":0,\"ticks\":\"\"}},\"type\":\"scattergl\"}],\"scattermapbox\":[{\"marker\":{\"colorbar\":{\"outlinewidth\":0,\"ticks\":\"\"}},\"type\":\"scattermapbox\"}],\"scatterpolar\":[{\"marker\":{\"colorbar\":{\"outlinewidth\":0,\"ticks\":\"\"}},\"type\":\"scatterpolar\"}],\"scatterpolargl\":[{\"marker\":{\"colorbar\":{\"outlinewidth\":0,\"ticks\":\"\"}},\"type\":\"scatterpolargl\"}],\"scatterternary\":[{\"marker\":{\"colorbar\":{\"outlinewidth\":0,\"ticks\":\"\"}},\"type\":\"scatterternary\"}],\"surface\":[{\"colorbar\":{\"outlinewidth\":0,\"ticks\":\"\"},\"colorscale\":[[0.0,\"#0d0887\"],[0.1111111111111111,\"#46039f\"],[0.2222222222222222,\"#7201a8\"],[0.3333333333333333,\"#9c179e\"],[0.4444444444444444,\"#bd3786\"],[0.5555555555555556,\"#d8576b\"],[0.6666666666666666,\"#ed7953\"],[0.7777777777777778,\"#fb9f3a\"],[0.8888888888888888,\"#fdca26\"],[1.0,\"#f0f921\"]],\"type\":\"surface\"}],\"table\":[{\"cells\":{\"fill\":{\"color\":\"#EBF0F8\"},\"line\":{\"color\":\"white\"}},\"header\":{\"fill\":{\"color\":\"#C8D4E3\"},\"line\":{\"color\":\"white\"}},\"type\":\"table\"}]},\"layout\":{\"annotationdefaults\":{\"arrowcolor\":\"#2a3f5f\",\"arrowhead\":0,\"arrowwidth\":1},\"autotypenumbers\":\"strict\",\"coloraxis\":{\"colorbar\":{\"outlinewidth\":0,\"ticks\":\"\"}},\"colorscale\":{\"diverging\":[[0,\"#8e0152\"],[0.1,\"#c51b7d\"],[0.2,\"#de77ae\"],[0.3,\"#f1b6da\"],[0.4,\"#fde0ef\"],[0.5,\"#f7f7f7\"],[0.6,\"#e6f5d0\"],[0.7,\"#b8e186\"],[0.8,\"#7fbc41\"],[0.9,\"#4d9221\"],[1,\"#276419\"]],\"sequential\":[[0.0,\"#0d0887\"],[0.1111111111111111,\"#46039f\"],[0.2222222222222222,\"#7201a8\"],[0.3333333333333333,\"#9c179e\"],[0.4444444444444444,\"#bd3786\"],[0.5555555555555556,\"#d8576b\"],[0.6666666666666666,\"#ed7953\"],[0.7777777777777778,\"#fb9f3a\"],[0.8888888888888888,\"#fdca26\"],[1.0,\"#f0f921\"]],\"sequentialminus\":[[0.0,\"#0d0887\"],[0.1111111111111111,\"#46039f\"],[0.2222222222222222,\"#7201a8\"],[0.3333333333333333,\"#9c179e\"],[0.4444444444444444,\"#bd3786\"],[0.5555555555555556,\"#d8576b\"],[0.6666666666666666,\"#ed7953\"],[0.7777777777777778,\"#fb9f3a\"],[0.8888888888888888,\"#fdca26\"],[1.0,\"#f0f921\"]]},\"colorway\":[\"#636efa\",\"#EF553B\",\"#00cc96\",\"#ab63fa\",\"#FFA15A\",\"#19d3f3\",\"#FF6692\",\"#B6E880\",\"#FF97FF\",\"#FECB52\"],\"font\":{\"color\":\"#2a3f5f\"},\"geo\":{\"bgcolor\":\"white\",\"lakecolor\":\"white\",\"landcolor\":\"#E5ECF6\",\"showlakes\":true,\"showland\":true,\"subunitcolor\":\"white\"},\"hoverlabel\":{\"align\":\"left\"},\"hovermode\":\"closest\",\"mapbox\":{\"style\":\"light\"},\"paper_bgcolor\":\"white\",\"plot_bgcolor\":\"#E5ECF6\",\"polar\":{\"angularaxis\":{\"gridcolor\":\"white\",\"linecolor\":\"white\",\"ticks\":\"\"},\"bgcolor\":\"#E5ECF6\",\"radialaxis\":{\"gridcolor\":\"white\",\"linecolor\":\"white\",\"ticks\":\"\"}},\"scene\":{\"xaxis\":{\"backgroundcolor\":\"#E5ECF6\",\"gridcolor\":\"white\",\"gridwidth\":2,\"linecolor\":\"white\",\"showbackground\":true,\"ticks\":\"\",\"zerolinecolor\":\"white\"},\"yaxis\":{\"backgroundcolor\":\"#E5ECF6\",\"gridcolor\":\"white\",\"gridwidth\":2,\"linecolor\":\"white\",\"showbackground\":true,\"ticks\":\"\",\"zerolinecolor\":\"white\"},\"zaxis\":{\"backgroundcolor\":\"#E5ECF6\",\"gridcolor\":\"white\",\"gridwidth\":2,\"linecolor\":\"white\",\"showbackground\":true,\"ticks\":\"\",\"zerolinecolor\":\"white\"}},\"shapedefaults\":{\"line\":{\"color\":\"#2a3f5f\"}},\"ternary\":{\"aaxis\":{\"gridcolor\":\"white\",\"linecolor\":\"white\",\"ticks\":\"\"},\"baxis\":{\"gridcolor\":\"white\",\"linecolor\":\"white\",\"ticks\":\"\"},\"bgcolor\":\"#E5ECF6\",\"caxis\":{\"gridcolor\":\"white\",\"linecolor\":\"white\",\"ticks\":\"\"}},\"title\":{\"x\":0.05},\"xaxis\":{\"automargin\":true,\"gridcolor\":\"white\",\"linecolor\":\"white\",\"ticks\":\"\",\"title\":{\"standoff\":15},\"zerolinecolor\":\"white\",\"zerolinewidth\":2},\"yaxis\":{\"automargin\":true,\"gridcolor\":\"white\",\"linecolor\":\"white\",\"ticks\":\"\",\"title\":{\"standoff\":15},\"zerolinecolor\":\"white\",\"zerolinewidth\":2}}},\"legend\":{\"tracegroupgap\":0},\"title\":{\"text\":\"Top 10 Publishers of Video Games\"},\"piecolorway\":[\"rgb(141,211,199)\",\"rgb(255,255,179)\",\"rgb(190,186,218)\",\"rgb(251,128,114)\",\"rgb(128,177,211)\",\"rgb(253,180,98)\",\"rgb(179,222,105)\",\"rgb(252,205,229)\",\"rgb(217,217,217)\",\"rgb(188,128,189)\",\"rgb(204,235,197)\",\"rgb(255,237,111)\"]},                        {\"responsive\": true}                    ).then(function(){\n",
              "                            \n",
              "var gd = document.getElementById('f9605e02-9d06-4bc9-8ad1-1133511e88e2');\n",
              "var x = new MutationObserver(function (mutations, observer) {{\n",
              "        var display = window.getComputedStyle(gd).display;\n",
              "        if (!display || display === 'none') {{\n",
              "            console.log([gd, 'removed!']);\n",
              "            Plotly.purge(gd);\n",
              "            observer.disconnect();\n",
              "        }}\n",
              "}});\n",
              "\n",
              "// Listen for the removal of the full notebook cells\n",
              "var notebookContainer = gd.closest('#notebook-container');\n",
              "if (notebookContainer) {{\n",
              "    x.observe(notebookContainer, {childList: true});\n",
              "}}\n",
              "\n",
              "// Listen for the clearing of the current output cell\n",
              "var outputEl = gd.closest('.output');\n",
              "if (outputEl) {{\n",
              "    x.observe(outputEl, {childList: true});\n",
              "}}\n",
              "\n",
              "                        })                };                            </script>        </div>\n",
              "</body>\n",
              "</html>"
            ]
          },
          "metadata": {}
        }
      ]
    },
    {
      "cell_type": "code",
      "source": [
        "dfx = df.groupby(['Genre']).sum()['Global_Sales'].reset_index(name='Global Sales')"
      ],
      "metadata": {
        "id": "wV6Q02yOiaLF"
      },
      "execution_count": 14,
      "outputs": []
    },
    {
      "cell_type": "code",
      "source": [
        "dfx=dfx.sort_values(by='Global Sales',ascending=False).head(10)\n",
        "print(dfx)"
      ],
      "metadata": {
        "id": "N7pIkhESkcnL",
        "colab": {
          "base_uri": "https://localhost:8080/"
        },
        "outputId": "9242bf60-1425-488e-d52c-4d9d7945819a"
      },
      "execution_count": 15,
      "outputs": [
        {
          "output_type": "stream",
          "name": "stdout",
          "text": [
            "           Genre  Global Sales\n",
            "0         Action       1751.18\n",
            "10        Sports       1330.93\n",
            "8        Shooter       1037.37\n",
            "7   Role-Playing        927.37\n",
            "4       Platform        831.37\n",
            "3           Misc        809.96\n",
            "6         Racing        732.04\n",
            "2       Fighting        448.91\n",
            "9     Simulation        392.20\n",
            "5         Puzzle        244.95\n"
          ]
        }
      ]
    },
    {
      "cell_type": "code",
      "source": [
        "import plotly.express as px\n",
        "pieChart = px.pie(dfx, values='Global Sales', names='Genre', \n",
        "                  title='Top 10 Categroies of Video Games',\n",
        "                  color_discrete_sequence=px.colors.qualitative.Set3)\n",
        "pieChart.show()"
      ],
      "metadata": {
        "colab": {
          "base_uri": "https://localhost:8080/",
          "height": 542
        },
        "id": "_1U9uPpJlAZ1",
        "outputId": "7e54ed8f-56d2-441b-ec39-4befc6e4f8e3"
      },
      "execution_count": 16,
      "outputs": [
        {
          "output_type": "display_data",
          "data": {
            "text/html": [
              "<html>\n",
              "<head><meta charset=\"utf-8\" /></head>\n",
              "<body>\n",
              "    <div>            <script src=\"https://cdnjs.cloudflare.com/ajax/libs/mathjax/2.7.5/MathJax.js?config=TeX-AMS-MML_SVG\"></script><script type=\"text/javascript\">if (window.MathJax) {MathJax.Hub.Config({SVG: {font: \"STIX-Web\"}});}</script>                <script type=\"text/javascript\">window.PlotlyConfig = {MathJaxConfig: 'local'};</script>\n",
              "        <script src=\"https://cdn.plot.ly/plotly-2.8.3.min.js\"></script>                <div id=\"99a8c23a-7d79-4124-846a-5040039977a3\" class=\"plotly-graph-div\" style=\"height:525px; width:100%;\"></div>            <script type=\"text/javascript\">                                    window.PLOTLYENV=window.PLOTLYENV || {};                                    if (document.getElementById(\"99a8c23a-7d79-4124-846a-5040039977a3\")) {                    Plotly.newPlot(                        \"99a8c23a-7d79-4124-846a-5040039977a3\",                        [{\"domain\":{\"x\":[0.0,1.0],\"y\":[0.0,1.0]},\"hovertemplate\":\"Genre=%{label}<br>Global Sales=%{value}<extra></extra>\",\"labels\":[\"Action\",\"Sports\",\"Shooter\",\"Role-Playing\",\"Platform\",\"Misc\",\"Racing\",\"Fighting\",\"Simulation\",\"Puzzle\"],\"legendgroup\":\"\",\"name\":\"\",\"showlegend\":true,\"values\":[1751.18,1330.93,1037.37,927.37,831.37,809.96,732.04,448.91,392.2,244.95],\"type\":\"pie\"}],                        {\"template\":{\"data\":{\"bar\":[{\"error_x\":{\"color\":\"#2a3f5f\"},\"error_y\":{\"color\":\"#2a3f5f\"},\"marker\":{\"line\":{\"color\":\"#E5ECF6\",\"width\":0.5},\"pattern\":{\"fillmode\":\"overlay\",\"size\":10,\"solidity\":0.2}},\"type\":\"bar\"}],\"barpolar\":[{\"marker\":{\"line\":{\"color\":\"#E5ECF6\",\"width\":0.5},\"pattern\":{\"fillmode\":\"overlay\",\"size\":10,\"solidity\":0.2}},\"type\":\"barpolar\"}],\"carpet\":[{\"aaxis\":{\"endlinecolor\":\"#2a3f5f\",\"gridcolor\":\"white\",\"linecolor\":\"white\",\"minorgridcolor\":\"white\",\"startlinecolor\":\"#2a3f5f\"},\"baxis\":{\"endlinecolor\":\"#2a3f5f\",\"gridcolor\":\"white\",\"linecolor\":\"white\",\"minorgridcolor\":\"white\",\"startlinecolor\":\"#2a3f5f\"},\"type\":\"carpet\"}],\"choropleth\":[{\"colorbar\":{\"outlinewidth\":0,\"ticks\":\"\"},\"type\":\"choropleth\"}],\"contour\":[{\"colorbar\":{\"outlinewidth\":0,\"ticks\":\"\"},\"colorscale\":[[0.0,\"#0d0887\"],[0.1111111111111111,\"#46039f\"],[0.2222222222222222,\"#7201a8\"],[0.3333333333333333,\"#9c179e\"],[0.4444444444444444,\"#bd3786\"],[0.5555555555555556,\"#d8576b\"],[0.6666666666666666,\"#ed7953\"],[0.7777777777777778,\"#fb9f3a\"],[0.8888888888888888,\"#fdca26\"],[1.0,\"#f0f921\"]],\"type\":\"contour\"}],\"contourcarpet\":[{\"colorbar\":{\"outlinewidth\":0,\"ticks\":\"\"},\"type\":\"contourcarpet\"}],\"heatmap\":[{\"colorbar\":{\"outlinewidth\":0,\"ticks\":\"\"},\"colorscale\":[[0.0,\"#0d0887\"],[0.1111111111111111,\"#46039f\"],[0.2222222222222222,\"#7201a8\"],[0.3333333333333333,\"#9c179e\"],[0.4444444444444444,\"#bd3786\"],[0.5555555555555556,\"#d8576b\"],[0.6666666666666666,\"#ed7953\"],[0.7777777777777778,\"#fb9f3a\"],[0.8888888888888888,\"#fdca26\"],[1.0,\"#f0f921\"]],\"type\":\"heatmap\"}],\"heatmapgl\":[{\"colorbar\":{\"outlinewidth\":0,\"ticks\":\"\"},\"colorscale\":[[0.0,\"#0d0887\"],[0.1111111111111111,\"#46039f\"],[0.2222222222222222,\"#7201a8\"],[0.3333333333333333,\"#9c179e\"],[0.4444444444444444,\"#bd3786\"],[0.5555555555555556,\"#d8576b\"],[0.6666666666666666,\"#ed7953\"],[0.7777777777777778,\"#fb9f3a\"],[0.8888888888888888,\"#fdca26\"],[1.0,\"#f0f921\"]],\"type\":\"heatmapgl\"}],\"histogram\":[{\"marker\":{\"pattern\":{\"fillmode\":\"overlay\",\"size\":10,\"solidity\":0.2}},\"type\":\"histogram\"}],\"histogram2d\":[{\"colorbar\":{\"outlinewidth\":0,\"ticks\":\"\"},\"colorscale\":[[0.0,\"#0d0887\"],[0.1111111111111111,\"#46039f\"],[0.2222222222222222,\"#7201a8\"],[0.3333333333333333,\"#9c179e\"],[0.4444444444444444,\"#bd3786\"],[0.5555555555555556,\"#d8576b\"],[0.6666666666666666,\"#ed7953\"],[0.7777777777777778,\"#fb9f3a\"],[0.8888888888888888,\"#fdca26\"],[1.0,\"#f0f921\"]],\"type\":\"histogram2d\"}],\"histogram2dcontour\":[{\"colorbar\":{\"outlinewidth\":0,\"ticks\":\"\"},\"colorscale\":[[0.0,\"#0d0887\"],[0.1111111111111111,\"#46039f\"],[0.2222222222222222,\"#7201a8\"],[0.3333333333333333,\"#9c179e\"],[0.4444444444444444,\"#bd3786\"],[0.5555555555555556,\"#d8576b\"],[0.6666666666666666,\"#ed7953\"],[0.7777777777777778,\"#fb9f3a\"],[0.8888888888888888,\"#fdca26\"],[1.0,\"#f0f921\"]],\"type\":\"histogram2dcontour\"}],\"mesh3d\":[{\"colorbar\":{\"outlinewidth\":0,\"ticks\":\"\"},\"type\":\"mesh3d\"}],\"parcoords\":[{\"line\":{\"colorbar\":{\"outlinewidth\":0,\"ticks\":\"\"}},\"type\":\"parcoords\"}],\"pie\":[{\"automargin\":true,\"type\":\"pie\"}],\"scatter\":[{\"marker\":{\"colorbar\":{\"outlinewidth\":0,\"ticks\":\"\"}},\"type\":\"scatter\"}],\"scatter3d\":[{\"line\":{\"colorbar\":{\"outlinewidth\":0,\"ticks\":\"\"}},\"marker\":{\"colorbar\":{\"outlinewidth\":0,\"ticks\":\"\"}},\"type\":\"scatter3d\"}],\"scattercarpet\":[{\"marker\":{\"colorbar\":{\"outlinewidth\":0,\"ticks\":\"\"}},\"type\":\"scattercarpet\"}],\"scattergeo\":[{\"marker\":{\"colorbar\":{\"outlinewidth\":0,\"ticks\":\"\"}},\"type\":\"scattergeo\"}],\"scattergl\":[{\"marker\":{\"colorbar\":{\"outlinewidth\":0,\"ticks\":\"\"}},\"type\":\"scattergl\"}],\"scattermapbox\":[{\"marker\":{\"colorbar\":{\"outlinewidth\":0,\"ticks\":\"\"}},\"type\":\"scattermapbox\"}],\"scatterpolar\":[{\"marker\":{\"colorbar\":{\"outlinewidth\":0,\"ticks\":\"\"}},\"type\":\"scatterpolar\"}],\"scatterpolargl\":[{\"marker\":{\"colorbar\":{\"outlinewidth\":0,\"ticks\":\"\"}},\"type\":\"scatterpolargl\"}],\"scatterternary\":[{\"marker\":{\"colorbar\":{\"outlinewidth\":0,\"ticks\":\"\"}},\"type\":\"scatterternary\"}],\"surface\":[{\"colorbar\":{\"outlinewidth\":0,\"ticks\":\"\"},\"colorscale\":[[0.0,\"#0d0887\"],[0.1111111111111111,\"#46039f\"],[0.2222222222222222,\"#7201a8\"],[0.3333333333333333,\"#9c179e\"],[0.4444444444444444,\"#bd3786\"],[0.5555555555555556,\"#d8576b\"],[0.6666666666666666,\"#ed7953\"],[0.7777777777777778,\"#fb9f3a\"],[0.8888888888888888,\"#fdca26\"],[1.0,\"#f0f921\"]],\"type\":\"surface\"}],\"table\":[{\"cells\":{\"fill\":{\"color\":\"#EBF0F8\"},\"line\":{\"color\":\"white\"}},\"header\":{\"fill\":{\"color\":\"#C8D4E3\"},\"line\":{\"color\":\"white\"}},\"type\":\"table\"}]},\"layout\":{\"annotationdefaults\":{\"arrowcolor\":\"#2a3f5f\",\"arrowhead\":0,\"arrowwidth\":1},\"autotypenumbers\":\"strict\",\"coloraxis\":{\"colorbar\":{\"outlinewidth\":0,\"ticks\":\"\"}},\"colorscale\":{\"diverging\":[[0,\"#8e0152\"],[0.1,\"#c51b7d\"],[0.2,\"#de77ae\"],[0.3,\"#f1b6da\"],[0.4,\"#fde0ef\"],[0.5,\"#f7f7f7\"],[0.6,\"#e6f5d0\"],[0.7,\"#b8e186\"],[0.8,\"#7fbc41\"],[0.9,\"#4d9221\"],[1,\"#276419\"]],\"sequential\":[[0.0,\"#0d0887\"],[0.1111111111111111,\"#46039f\"],[0.2222222222222222,\"#7201a8\"],[0.3333333333333333,\"#9c179e\"],[0.4444444444444444,\"#bd3786\"],[0.5555555555555556,\"#d8576b\"],[0.6666666666666666,\"#ed7953\"],[0.7777777777777778,\"#fb9f3a\"],[0.8888888888888888,\"#fdca26\"],[1.0,\"#f0f921\"]],\"sequentialminus\":[[0.0,\"#0d0887\"],[0.1111111111111111,\"#46039f\"],[0.2222222222222222,\"#7201a8\"],[0.3333333333333333,\"#9c179e\"],[0.4444444444444444,\"#bd3786\"],[0.5555555555555556,\"#d8576b\"],[0.6666666666666666,\"#ed7953\"],[0.7777777777777778,\"#fb9f3a\"],[0.8888888888888888,\"#fdca26\"],[1.0,\"#f0f921\"]]},\"colorway\":[\"#636efa\",\"#EF553B\",\"#00cc96\",\"#ab63fa\",\"#FFA15A\",\"#19d3f3\",\"#FF6692\",\"#B6E880\",\"#FF97FF\",\"#FECB52\"],\"font\":{\"color\":\"#2a3f5f\"},\"geo\":{\"bgcolor\":\"white\",\"lakecolor\":\"white\",\"landcolor\":\"#E5ECF6\",\"showlakes\":true,\"showland\":true,\"subunitcolor\":\"white\"},\"hoverlabel\":{\"align\":\"left\"},\"hovermode\":\"closest\",\"mapbox\":{\"style\":\"light\"},\"paper_bgcolor\":\"white\",\"plot_bgcolor\":\"#E5ECF6\",\"polar\":{\"angularaxis\":{\"gridcolor\":\"white\",\"linecolor\":\"white\",\"ticks\":\"\"},\"bgcolor\":\"#E5ECF6\",\"radialaxis\":{\"gridcolor\":\"white\",\"linecolor\":\"white\",\"ticks\":\"\"}},\"scene\":{\"xaxis\":{\"backgroundcolor\":\"#E5ECF6\",\"gridcolor\":\"white\",\"gridwidth\":2,\"linecolor\":\"white\",\"showbackground\":true,\"ticks\":\"\",\"zerolinecolor\":\"white\"},\"yaxis\":{\"backgroundcolor\":\"#E5ECF6\",\"gridcolor\":\"white\",\"gridwidth\":2,\"linecolor\":\"white\",\"showbackground\":true,\"ticks\":\"\",\"zerolinecolor\":\"white\"},\"zaxis\":{\"backgroundcolor\":\"#E5ECF6\",\"gridcolor\":\"white\",\"gridwidth\":2,\"linecolor\":\"white\",\"showbackground\":true,\"ticks\":\"\",\"zerolinecolor\":\"white\"}},\"shapedefaults\":{\"line\":{\"color\":\"#2a3f5f\"}},\"ternary\":{\"aaxis\":{\"gridcolor\":\"white\",\"linecolor\":\"white\",\"ticks\":\"\"},\"baxis\":{\"gridcolor\":\"white\",\"linecolor\":\"white\",\"ticks\":\"\"},\"bgcolor\":\"#E5ECF6\",\"caxis\":{\"gridcolor\":\"white\",\"linecolor\":\"white\",\"ticks\":\"\"}},\"title\":{\"x\":0.05},\"xaxis\":{\"automargin\":true,\"gridcolor\":\"white\",\"linecolor\":\"white\",\"ticks\":\"\",\"title\":{\"standoff\":15},\"zerolinecolor\":\"white\",\"zerolinewidth\":2},\"yaxis\":{\"automargin\":true,\"gridcolor\":\"white\",\"linecolor\":\"white\",\"ticks\":\"\",\"title\":{\"standoff\":15},\"zerolinecolor\":\"white\",\"zerolinewidth\":2}}},\"legend\":{\"tracegroupgap\":0},\"title\":{\"text\":\"Top 10 Categroies of Video Games\"},\"piecolorway\":[\"rgb(141,211,199)\",\"rgb(255,255,179)\",\"rgb(190,186,218)\",\"rgb(251,128,114)\",\"rgb(128,177,211)\",\"rgb(253,180,98)\",\"rgb(179,222,105)\",\"rgb(252,205,229)\",\"rgb(217,217,217)\",\"rgb(188,128,189)\",\"rgb(204,235,197)\",\"rgb(255,237,111)\"]},                        {\"responsive\": true}                    ).then(function(){\n",
              "                            \n",
              "var gd = document.getElementById('99a8c23a-7d79-4124-846a-5040039977a3');\n",
              "var x = new MutationObserver(function (mutations, observer) {{\n",
              "        var display = window.getComputedStyle(gd).display;\n",
              "        if (!display || display === 'none') {{\n",
              "            console.log([gd, 'removed!']);\n",
              "            Plotly.purge(gd);\n",
              "            observer.disconnect();\n",
              "        }}\n",
              "}});\n",
              "\n",
              "// Listen for the removal of the full notebook cells\n",
              "var notebookContainer = gd.closest('#notebook-container');\n",
              "if (notebookContainer) {{\n",
              "    x.observe(notebookContainer, {childList: true});\n",
              "}}\n",
              "\n",
              "// Listen for the clearing of the current output cell\n",
              "var outputEl = gd.closest('.output');\n",
              "if (outputEl) {{\n",
              "    x.observe(outputEl, {childList: true});\n",
              "}}\n",
              "\n",
              "                        })                };                            </script>        </div>\n",
              "</body>\n",
              "</html>"
            ]
          },
          "metadata": {}
        }
      ]
    },
    {
      "cell_type": "code",
      "source": [
        "X=df.drop(['Global_Sales'],axis=1)\n",
        "y=df['Global_Sales']"
      ],
      "metadata": {
        "id": "ZqfeUsuDX0xH"
      },
      "execution_count": 17,
      "outputs": []
    },
    {
      "cell_type": "code",
      "source": [
        "print(df.corr(),'\\n')\n",
        "plt.figure(figsize=(10,7))\n",
        "sns.heatmap(df.corr(), cmap=\"winter_r\")\n",
        "plt.show()"
      ],
      "metadata": {
        "colab": {
          "base_uri": "https://localhost:8080/",
          "height": 745
        },
        "id": "5vMcKURVl859",
        "outputId": "2c4d1a11-85d6-4a55-8777-fe4c01d0292a"
      },
      "execution_count": 18,
      "outputs": [
        {
          "output_type": "stream",
          "name": "stdout",
          "text": [
            "                  Rank      Year  NA_Sales  EU_Sales  JP_Sales  Other_Sales  \\\n",
            "Rank          1.000000  0.178814 -0.401362 -0.379123 -0.267785    -0.332986   \n",
            "Year          0.178814  1.000000 -0.091402  0.006014 -0.169316     0.041058   \n",
            "NA_Sales     -0.401362 -0.091402  1.000000  0.767727  0.449787     0.634737   \n",
            "EU_Sales     -0.379123  0.006014  0.767727  1.000000  0.435584     0.726385   \n",
            "JP_Sales     -0.267785 -0.169316  0.449787  0.435584  1.000000     0.290186   \n",
            "Other_Sales  -0.332986  0.041058  0.634737  0.726385  0.290186     1.000000   \n",
            "Global_Sales -0.427407 -0.074735  0.941047  0.902836  0.611816     0.748331   \n",
            "\n",
            "              Global_Sales  \n",
            "Rank             -0.427407  \n",
            "Year             -0.074735  \n",
            "NA_Sales          0.941047  \n",
            "EU_Sales          0.902836  \n",
            "JP_Sales          0.611816  \n",
            "Other_Sales       0.748331  \n",
            "Global_Sales      1.000000   \n",
            "\n"
          ]
        },
        {
          "output_type": "display_data",
          "data": {
            "text/plain": [
              "<Figure size 720x504 with 2 Axes>"
            ],
            "image/png": "[encoded data removed]"
          },
          "metadata": {
            "needs_background": "light"
          }
        }
      ]
    },
    {
      "cell_type": "code",
      "source": [
        "from sklearn.model_selection import train_test_split\n",
        "X_train_full, X_valid_full, y_train, y_valid = train_test_split(X, y, test_size=0.3, random_state=0)"
      ],
      "metadata": {
        "id": "QJhs6Z-hX39N"
      },
      "execution_count": 19,
      "outputs": []
    },
    {
      "cell_type": "code",
      "source": [
        "categorical_cols = [cname for cname in X_train_full.columns if X_train_full[cname].nunique() < 10 and \n",
        "                        X_train_full[cname].dtype == \"O\"]\n",
        "\n",
        "# Select numerical columns\n",
        "numerical_cols = [cname for cname in X_train_full.columns if X_train_full[cname].dtype in ['int64', 'float64']]\n",
        "\n",
        "# Keep selected columns only\n",
        "my_cols = categorical_cols + numerical_cols\n",
        "X_train = X_train_full[my_cols].copy()\n",
        "X_valid = X_valid_full[my_cols].copy()"
      ],
      "metadata": {
        "id": "yHUai7eWX6fP"
      },
      "execution_count": 20,
      "outputs": []
    },
    {
      "cell_type": "code",
      "source": [
        "categorical_cols"
      ],
      "metadata": {
        "colab": {
          "base_uri": "https://localhost:8080/"
        },
        "id": "0awIBXGzX-dV",
        "outputId": "66ee21f5-bcf3-4a65-9e60-b70ca22f1178"
      },
      "execution_count": 21,
      "outputs": [
        {
          "output_type": "execute_result",
          "data": {
            "text/plain": [
              "[]"
            ]
          },
          "metadata": {},
          "execution_count": 21
        }
      ]
    },
    {
      "cell_type": "code",
      "source": [
        "numerical_cols"
      ],
      "metadata": {
        "colab": {
          "base_uri": "https://localhost:8080/"
        },
        "id": "VVInuttGYAMx",
        "outputId": "6fd4efb4-fa67-47eb-b7e2-168ee2646aae"
      },
      "execution_count": 22,
      "outputs": [
        {
          "output_type": "execute_result",
          "data": {
            "text/plain": [
              "['Rank', 'Year', 'NA_Sales', 'EU_Sales', 'JP_Sales', 'Other_Sales']"
            ]
          },
          "metadata": {},
          "execution_count": 22
        }
      ]
    },
    {
      "cell_type": "code",
      "source": [
        "X_train['Year'].dtype"
      ],
      "metadata": {
        "id": "uP7QBHbxYCm9",
        "outputId": "44b4433a-499b-45a6-b0cd-ce6cc1450c5d",
        "colab": {
          "base_uri": "https://localhost:8080/"
        }
      },
      "execution_count": 23,
      "outputs": [
        {
          "output_type": "execute_result",
          "data": {
            "text/plain": [
              "dtype('float64')"
            ]
          },
          "metadata": {},
          "execution_count": 23
        }
      ]
    },
    {
      "cell_type": "code",
      "source": [
        "from sklearn.impute import SimpleImputer\n",
        "imputer = SimpleImputer(missing_values=np.nan, strategy='mean')\n",
        "imputer.fit(X_train)\n",
        "X_train[numerical_cols] = imputer.transform(X_train[numerical_cols])\n",
        "print(X_train.isnull().sum())"
      ],
      "metadata": {
        "id": "ODU74jvuYHRJ",
        "colab": {
          "base_uri": "https://localhost:8080/"
        },
        "outputId": "5598f44f-f682-4692-f5bc-7a0451e91e26"
      },
      "execution_count": 24,
      "outputs": [
        {
          "output_type": "stream",
          "name": "stdout",
          "text": [
            "Rank           0\n",
            "Year           0\n",
            "NA_Sales       0\n",
            "EU_Sales       0\n",
            "JP_Sales       0\n",
            "Other_Sales    0\n",
            "dtype: int64\n"
          ]
        }
      ]
    },
    {
      "cell_type": "code",
      "source": [
        "X_valid.isnull().sum()"
      ],
      "metadata": {
        "colab": {
          "base_uri": "https://localhost:8080/"
        },
        "id": "V2nwbh-KaxOp",
        "outputId": "95ae83d4-2e9b-4065-91fe-ba0b2b7e6e85"
      },
      "execution_count": 25,
      "outputs": [
        {
          "output_type": "execute_result",
          "data": {
            "text/plain": [
              "Rank            0\n",
              "Year           72\n",
              "NA_Sales        0\n",
              "EU_Sales        0\n",
              "JP_Sales        0\n",
              "Other_Sales     0\n",
              "dtype: int64"
            ]
          },
          "metadata": {},
          "execution_count": 25
        }
      ]
    },
    {
      "cell_type": "code",
      "source": [
        "X_valid = imputer.transform(X_valid)\n"
      ],
      "metadata": {
        "id": "XYURuwLLaWMq"
      },
      "execution_count": 26,
      "outputs": []
    },
    {
      "cell_type": "code",
      "source": [
        "X_valid"
      ],
      "metadata": {
        "colab": {
          "base_uri": "https://localhost:8080/"
        },
        "id": "_OhkljRYa2e9",
        "outputId": "285c24bb-5c0b-4c23-8e6a-56aeb6317c39"
      },
      "execution_count": 27,
      "outputs": [
        {
          "output_type": "execute_result",
          "data": {
            "text/plain": [
              "array([[1.588e+03, 2.007e+03, 4.700e-01, 5.300e-01, 3.000e-02, 2.200e-01],\n",
              "       [5.370e+03, 2.003e+03, 8.000e-02, 6.000e-02, 1.900e-01, 2.000e-02],\n",
              "       [6.277e+03, 1.997e+03, 9.000e-02, 6.000e-02, 1.100e-01, 2.000e-02],\n",
              "       ...,\n",
              "       [4.004e+03, 1.996e+03, 0.000e+00, 0.000e+00, 5.000e-01, 0.000e+00],\n",
              "       [7.261e+03, 2.009e+03, 2.000e-01, 0.000e+00, 0.000e+00, 2.000e-02],\n",
              "       [8.153e+03, 1.998e+03, 1.000e-01, 7.000e-02, 0.000e+00, 1.000e-02]])"
            ]
          },
          "metadata": {},
          "execution_count": 27
        }
      ]
    },
    {
      "cell_type": "code",
      "source": [
        "from sklearn.preprocessing import StandardScaler\n",
        "sc = StandardScaler()\n",
        "X_train = sc.fit_transform(X_train)\n",
        "X_valid = sc.transform(X_valid)\n",
        "print(X_train)\n",
        "print(X_valid)"
      ],
      "metadata": {
        "colab": {
          "base_uri": "https://localhost:8080/"
        },
        "id": "KfjsZAWOa32Y",
        "outputId": "5a335af8-da8a-4684-91f8-e45fce27d774"
      },
      "execution_count": 28,
      "outputs": [
        {
          "output_type": "stream",
          "name": "stdout",
          "text": [
            "[[ 1.46574518  0.96909383 -0.32725918 -0.28094534 -0.18444935 -0.24025906]\n",
            " [-0.50352225  0.79625381  0.03026501 -0.28094534 -0.24820813 -0.14172299]\n",
            " [ 1.21036167  0.27773374 -0.2779455  -0.28094534 -0.24820813 -0.24025906]\n",
            " ...\n",
            " [ 0.32954917  0.62341378 -0.32725918 -0.28094534  0.13434454 -0.24025906]\n",
            " [ 0.52843559 -0.06794631 -0.22863182 -0.26191114 -0.24820813 -0.19099102]\n",
            " [-1.15334298  0.27773374  0.17820605  0.1187729  -0.24820813  0.44949341]]\n",
            "[[-1.39225686  0.10489372  0.25217658  0.72786736 -0.15256996  0.84363768]\n",
            " [-0.60379937 -0.58646637 -0.22863182 -0.16674013  0.35750026 -0.14172299]\n",
            " [-0.41471134 -1.62350651 -0.2163034  -0.16674013  0.10246515 -0.14172299]\n",
            " ...\n",
            " [-0.88857804 -1.79634653 -0.32725918 -0.28094534  1.34576132 -0.24025906]\n",
            " [-0.20957063  0.45057376 -0.08069077 -0.28094534 -0.24820813 -0.14172299]\n",
            " [-0.02360974 -1.45066649 -0.20397498 -0.14770593 -0.24820813 -0.19099102]]\n"
          ]
        },
        {
          "output_type": "stream",
          "name": "stderr",
          "text": [
            "/usr/local/lib/python3.7/dist-packages/sklearn/base.py:451: UserWarning:\n",
            "\n",
            "X does not have valid feature names, but StandardScaler was fitted with feature names\n",
            "\n"
          ]
        }
      ]
    },
    {
      "cell_type": "code",
      "source": [
        "import tensorflow as tf\n",
        "tf.__version__"
      ],
      "metadata": {
        "colab": {
          "base_uri": "https://localhost:8080/",
          "height": 35
        },
        "id": "WcsrDURVbVkh",
        "outputId": "9b8a507c-ca34-463c-dd22-2d15529a1d34"
      },
      "execution_count": 29,
      "outputs": [
        {
          "output_type": "execute_result",
          "data": {
            "text/plain": [
              "'2.8.0'"
            ],
            "application/vnd.google.colaboratory.intrinsic+json": {
              "type": "string"
            }
          },
          "metadata": {},
          "execution_count": 29
        }
      ]
    },
    {
      "cell_type": "code",
      "source": [
        "ann=tf.keras.models.Sequential()"
      ],
      "metadata": {
        "id": "QjYWIcwObg2Y"
      },
      "execution_count": 30,
      "outputs": []
    },
    {
      "cell_type": "code",
      "source": [
        "ann.add(tf.keras.layers.Dense(units=6, activation='relu'))"
      ],
      "metadata": {
        "id": "--EdBy9pbirO"
      },
      "execution_count": 31,
      "outputs": []
    },
    {
      "cell_type": "code",
      "source": [
        "ann.add(tf.keras.layers.Dense(units=6, activation='relu'))"
      ],
      "metadata": {
        "id": "CB9v3CewbkMA"
      },
      "execution_count": 32,
      "outputs": []
    },
    {
      "cell_type": "code",
      "source": [
        "ann.add(tf.keras.layers.Dense(units=1))"
      ],
      "metadata": {
        "id": "uheHwprybkco"
      },
      "execution_count": 33,
      "outputs": []
    },
    {
      "cell_type": "code",
      "source": [
        "# optimizer='adam' is used for  telling the tensorflow library to use Stochastic gradient descent"
      ],
      "metadata": {
        "id": "3da0UXHVbmbP"
      },
      "execution_count": 34,
      "outputs": []
    },
    {
      "cell_type": "code",
      "source": [
        "ann.compile(optimizer = 'adam', loss = 'mean_squared_error')"
      ],
      "metadata": {
        "id": "x-ldV2mKbn7e"
      },
      "execution_count": 35,
      "outputs": []
    },
    {
      "cell_type": "code",
      "source": [
        "ann.fit(X_train, y_train, batch_size = 32, epochs = 100)"
      ],
      "metadata": {
        "colab": {
          "base_uri": "https://localhost:8080/"
        },
        "id": "NhlzjP6ZbpZO",
        "outputId": "267b2ca5-fd1d-4c56-8f15-6ad7ed7ae053"
      },
      "execution_count": 36,
      "outputs": [
        {
          "output_type": "stream",
          "name": "stdout",
          "text": [
            "Epoch 1/100\n",
            "364/364 [==============================] - 2s 2ms/step - loss: 3.1020\n",
            "Epoch 2/100\n",
            "364/364 [==============================] - 1s 2ms/step - loss: 2.1417\n",
            "Epoch 3/100\n",
            "364/364 [==============================] - 1s 2ms/step - loss: 1.1660\n",
            "Epoch 4/100\n",
            "364/364 [==============================] - 1s 2ms/step - loss: 0.3980\n",
            "Epoch 5/100\n",
            "364/364 [==============================] - 1s 1ms/step - loss: 0.1053\n",
            "Epoch 6/100\n",
            "364/364 [==============================] - 1s 2ms/step - loss: 0.0293\n",
            "Epoch 7/100\n",
            "364/364 [==============================] - 1s 2ms/step - loss: 0.0149\n",
            "Epoch 8/100\n",
            "364/364 [==============================] - 1s 2ms/step - loss: 0.0101\n",
            "Epoch 9/100\n",
            "364/364 [==============================] - 1s 2ms/step - loss: 0.0076\n",
            "Epoch 10/100\n",
            "364/364 [==============================] - 1s 2ms/step - loss: 0.0078\n",
            "Epoch 11/100\n",
            "364/364 [==============================] - 1s 2ms/step - loss: 0.0049\n",
            "Epoch 12/100\n",
            "364/364 [==============================] - 1s 2ms/step - loss: 0.0047\n",
            "Epoch 13/100\n",
            "364/364 [==============================] - 1s 2ms/step - loss: 0.0047\n",
            "Epoch 14/100\n",
            "364/364 [==============================] - 1s 2ms/step - loss: 0.0031\n",
            "Epoch 15/100\n",
            "364/364 [==============================] - 1s 2ms/step - loss: 0.0031\n",
            "Epoch 16/100\n",
            "364/364 [==============================] - 1s 2ms/step - loss: 0.0032\n",
            "Epoch 17/100\n",
            "364/364 [==============================] - 1s 2ms/step - loss: 0.0029\n",
            "Epoch 18/100\n",
            "364/364 [==============================] - 1s 2ms/step - loss: 0.0030\n",
            "Epoch 19/100\n",
            "364/364 [==============================] - 1s 2ms/step - loss: 0.0041\n",
            "Epoch 20/100\n",
            "364/364 [==============================] - 1s 3ms/step - loss: 0.0021\n",
            "Epoch 21/100\n",
            "364/364 [==============================] - 1s 2ms/step - loss: 0.0024\n",
            "Epoch 22/100\n",
            "364/364 [==============================] - 1s 2ms/step - loss: 0.0017\n",
            "Epoch 23/100\n",
            "364/364 [==============================] - 1s 2ms/step - loss: 0.0035\n",
            "Epoch 24/100\n",
            "364/364 [==============================] - 1s 2ms/step - loss: 0.0019\n",
            "Epoch 25/100\n",
            "364/364 [==============================] - 1s 2ms/step - loss: 0.0013\n",
            "Epoch 26/100\n",
            "364/364 [==============================] - 1s 2ms/step - loss: 0.0029\n",
            "Epoch 27/100\n",
            "364/364 [==============================] - 1s 1ms/step - loss: 0.0040\n",
            "Epoch 28/100\n",
            "364/364 [==============================] - 1s 2ms/step - loss: 0.0033\n",
            "Epoch 29/100\n",
            "364/364 [==============================] - 1s 2ms/step - loss: 0.0019\n",
            "Epoch 30/100\n",
            "364/364 [==============================] - 1s 2ms/step - loss: 7.2984e-04\n",
            "Epoch 31/100\n",
            "364/364 [==============================] - 1s 2ms/step - loss: 6.1066e-04\n",
            "Epoch 32/100\n",
            "364/364 [==============================] - 1s 2ms/step - loss: 7.1803e-04\n",
            "Epoch 33/100\n",
            "364/364 [==============================] - 1s 2ms/step - loss: 0.0021\n",
            "Epoch 34/100\n",
            "364/364 [==============================] - 1s 2ms/step - loss: 0.0025\n",
            "Epoch 35/100\n",
            "364/364 [==============================] - 1s 2ms/step - loss: 0.0049\n",
            "Epoch 36/100\n",
            "364/364 [==============================] - 1s 2ms/step - loss: 5.5441e-04\n",
            "Epoch 37/100\n",
            "364/364 [==============================] - 1s 2ms/step - loss: 6.5219e-04\n",
            "Epoch 38/100\n",
            "364/364 [==============================] - 1s 2ms/step - loss: 0.0023\n",
            "Epoch 39/100\n",
            "364/364 [==============================] - 1s 2ms/step - loss: 0.0040\n",
            "Epoch 40/100\n",
            "364/364 [==============================] - 1s 2ms/step - loss: 0.0045\n",
            "Epoch 41/100\n",
            "364/364 [==============================] - 1s 2ms/step - loss: 0.0016\n",
            "Epoch 42/100\n",
            "364/364 [==============================] - 1s 2ms/step - loss: 5.8725e-04\n",
            "Epoch 43/100\n",
            "364/364 [==============================] - 1s 2ms/step - loss: 5.8194e-04\n",
            "Epoch 44/100\n",
            "364/364 [==============================] - 1s 2ms/step - loss: 5.8988e-04\n",
            "Epoch 45/100\n",
            "364/364 [==============================] - 1s 2ms/step - loss: 3.0165e-04\n",
            "Epoch 46/100\n",
            "364/364 [==============================] - 1s 2ms/step - loss: 4.4669e-04\n",
            "Epoch 47/100\n",
            "364/364 [==============================] - 1s 2ms/step - loss: 7.6641e-04\n",
            "Epoch 48/100\n",
            "364/364 [==============================] - 1s 2ms/step - loss: 0.0012\n",
            "Epoch 49/100\n",
            "364/364 [==============================] - 1s 2ms/step - loss: 8.4629e-04\n",
            "Epoch 50/100\n",
            "364/364 [==============================] - 1s 2ms/step - loss: 3.0879e-04\n",
            "Epoch 51/100\n",
            "364/364 [==============================] - 1s 2ms/step - loss: 0.0011\n",
            "Epoch 52/100\n",
            "364/364 [==============================] - 1s 2ms/step - loss: 0.0023\n",
            "Epoch 53/100\n",
            "364/364 [==============================] - 1s 2ms/step - loss: 9.2959e-04\n",
            "Epoch 54/100\n",
            "364/364 [==============================] - 1s 2ms/step - loss: 6.4839e-04\n",
            "Epoch 55/100\n",
            "364/364 [==============================] - 1s 2ms/step - loss: 1.3390e-04\n",
            "Epoch 56/100\n",
            "364/364 [==============================] - 1s 2ms/step - loss: 3.8692e-04\n",
            "Epoch 57/100\n",
            "364/364 [==============================] - 1s 2ms/step - loss: 2.1328e-04\n",
            "Epoch 58/100\n",
            "364/364 [==============================] - 1s 2ms/step - loss: 8.8837e-04\n",
            "Epoch 59/100\n",
            "364/364 [==============================] - 1s 2ms/step - loss: 7.9025e-04\n",
            "Epoch 60/100\n",
            "364/364 [==============================] - 1s 2ms/step - loss: 9.5884e-04\n",
            "Epoch 61/100\n",
            "364/364 [==============================] - 1s 2ms/step - loss: 2.9735e-04\n",
            "Epoch 62/100\n",
            "364/364 [==============================] - 1s 2ms/step - loss: 0.0025\n",
            "Epoch 63/100\n",
            "364/364 [==============================] - 1s 2ms/step - loss: 2.9498e-04\n",
            "Epoch 64/100\n",
            "364/364 [==============================] - 1s 2ms/step - loss: 7.1576e-04\n",
            "Epoch 65/100\n",
            "364/364 [==============================] - 1s 2ms/step - loss: 4.9695e-04\n",
            "Epoch 66/100\n",
            "364/364 [==============================] - 1s 2ms/step - loss: 5.1924e-04\n",
            "Epoch 67/100\n",
            "364/364 [==============================] - 1s 2ms/step - loss: 9.4710e-05\n",
            "Epoch 68/100\n",
            "364/364 [==============================] - 1s 2ms/step - loss: 0.0022\n",
            "Epoch 69/100\n",
            "364/364 [==============================] - 1s 2ms/step - loss: 9.9281e-04\n",
            "Epoch 70/100\n",
            "364/364 [==============================] - 1s 1ms/step - loss: 3.2043e-04\n",
            "Epoch 71/100\n",
            "364/364 [==============================] - 1s 1ms/step - loss: 6.1650e-04\n",
            "Epoch 72/100\n",
            "364/364 [==============================] - 1s 2ms/step - loss: 2.0489e-04\n",
            "Epoch 73/100\n",
            "364/364 [==============================] - 1s 2ms/step - loss: 2.1212e-04\n",
            "Epoch 74/100\n",
            "364/364 [==============================] - 1s 2ms/step - loss: 0.0012\n",
            "Epoch 75/100\n",
            "364/364 [==============================] - 1s 2ms/step - loss: 6.3034e-04\n",
            "Epoch 76/100\n",
            "364/364 [==============================] - 1s 2ms/step - loss: 2.7767e-04\n",
            "Epoch 77/100\n",
            "364/364 [==============================] - 1s 2ms/step - loss: 1.7758e-04\n",
            "Epoch 78/100\n",
            "364/364 [==============================] - 1s 2ms/step - loss: 2.1706e-04\n",
            "Epoch 79/100\n",
            "364/364 [==============================] - 1s 2ms/step - loss: 0.0014\n",
            "Epoch 80/100\n",
            "364/364 [==============================] - 2s 4ms/step - loss: 3.2542e-04\n",
            "Epoch 81/100\n",
            "364/364 [==============================] - 1s 2ms/step - loss: 0.0024\n",
            "Epoch 82/100\n",
            "364/364 [==============================] - 1s 2ms/step - loss: 8.0400e-04\n",
            "Epoch 83/100\n",
            "364/364 [==============================] - 1s 2ms/step - loss: 2.1608e-04\n",
            "Epoch 84/100\n",
            "364/364 [==============================] - 1s 2ms/step - loss: 4.7023e-04\n",
            "Epoch 85/100\n",
            "364/364 [==============================] - 1s 2ms/step - loss: 8.6765e-04\n",
            "Epoch 86/100\n",
            "364/364 [==============================] - 1s 2ms/step - loss: 2.2716e-04\n",
            "Epoch 87/100\n",
            "364/364 [==============================] - 1s 2ms/step - loss: 4.5260e-04\n",
            "Epoch 88/100\n",
            "364/364 [==============================] - 1s 2ms/step - loss: 5.6021e-04\n",
            "Epoch 89/100\n",
            "364/364 [==============================] - 1s 2ms/step - loss: 3.0629e-04\n",
            "Epoch 90/100\n",
            "364/364 [==============================] - 1s 2ms/step - loss: 5.0271e-04\n",
            "Epoch 91/100\n",
            "364/364 [==============================] - 1s 2ms/step - loss: 1.7595e-04\n",
            "Epoch 92/100\n",
            "364/364 [==============================] - 1s 2ms/step - loss: 0.0012\n",
            "Epoch 93/100\n",
            "364/364 [==============================] - 1s 2ms/step - loss: 0.0012\n",
            "Epoch 94/100\n",
            "364/364 [==============================] - 1s 2ms/step - loss: 2.3021e-04\n",
            "Epoch 95/100\n",
            "364/364 [==============================] - 1s 2ms/step - loss: 0.0046\n",
            "Epoch 96/100\n",
            "364/364 [==============================] - 1s 2ms/step - loss: 2.7821e-04\n",
            "Epoch 97/100\n",
            "364/364 [==============================] - 1s 2ms/step - loss: 7.8350e-05\n",
            "Epoch 98/100\n",
            "364/364 [==============================] - 1s 2ms/step - loss: 1.8856e-04\n",
            "Epoch 99/100\n",
            "364/364 [==============================] - 1s 2ms/step - loss: 7.0339e-05\n",
            "Epoch 100/100\n",
            "364/364 [==============================] - 1s 2ms/step - loss: 1.9069e-04\n"
          ]
        },
        {
          "output_type": "execute_result",
          "data": {
            "text/plain": [
              "<keras.callbacks.History at 0x7f70eb6bec10>"
            ]
          },
          "metadata": {},
          "execution_count": 36
        }
      ]
    },
    {
      "cell_type": "code",
      "source": [
        "y_pred=ann.predict(X_valid)\n",
        "y_pred\n"
      ],
      "metadata": {
        "colab": {
          "base_uri": "https://localhost:8080/"
        },
        "id": "2B0zIfxwbrp1",
        "outputId": "820b2f37-b7db-41b3-92a2-3a0e74e1d9c0"
      },
      "execution_count": 37,
      "outputs": [
        {
          "output_type": "execute_result",
          "data": {
            "text/plain": [
              "array([[1.2409303 ],\n",
              "       [0.34135932],\n",
              "       [0.2754375 ],\n",
              "       ...,\n",
              "       [0.51002616],\n",
              "       [0.22317599],\n",
              "       [0.17480454]], dtype=float32)"
            ]
          },
          "metadata": {},
          "execution_count": 37
        }
      ]
    },
    {
      "cell_type": "code",
      "source": [
        "y_valid = np.array(y_valid)"
      ],
      "metadata": {
        "id": "9AgCFvSLeKvN"
      },
      "execution_count": 38,
      "outputs": []
    },
    {
      "cell_type": "code",
      "source": [
        "np.concatenate((y_pred,y_valid.reshape(len(y_valid),1)),1)"
      ],
      "metadata": {
        "colab": {
          "base_uri": "https://localhost:8080/"
        },
        "id": "UGgo70ONgZlA",
        "outputId": "4850bfc7-30e1-4ab6-d0b2-ab953648ca1b"
      },
      "execution_count": 39,
      "outputs": [
        {
          "output_type": "execute_result",
          "data": {
            "text/plain": [
              "array([[1.24093032, 1.25      ],\n",
              "       [0.34135932, 0.34      ],\n",
              "       [0.2754375 , 0.27      ],\n",
              "       ...,\n",
              "       [0.51002616, 0.5       ],\n",
              "       [0.22317599, 0.22      ],\n",
              "       [0.17480454, 0.18      ]])"
            ]
          },
          "metadata": {},
          "execution_count": 39
        }
      ]
    },
    {
      "cell_type": "code",
      "source": [
        ""
      ],
      "metadata": {
        "id": "wpq0k8gogqIv"
      },
      "execution_count": 39,
      "outputs": []
    }
  ]
}